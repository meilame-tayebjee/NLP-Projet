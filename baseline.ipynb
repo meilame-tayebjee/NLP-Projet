{
 "cells": [
  {
   "cell_type": "code",
   "execution_count": 23,
   "metadata": {},
   "outputs": [
    {
     "data": {
      "text/html": [
       "<div>\n",
       "<style scoped>\n",
       "    .dataframe tbody tr th:only-of-type {\n",
       "        vertical-align: middle;\n",
       "    }\n",
       "\n",
       "    .dataframe tbody tr th {\n",
       "        vertical-align: top;\n",
       "    }\n",
       "\n",
       "    .dataframe thead th {\n",
       "        text-align: right;\n",
       "    }\n",
       "</style>\n",
       "<table border=\"1\" class=\"dataframe\">\n",
       "  <thead>\n",
       "    <tr style=\"text-align: right;\">\n",
       "      <th></th>\n",
       "      <th>text</th>\n",
       "      <th>label</th>\n",
       "    </tr>\n",
       "  </thead>\n",
       "  <tbody>\n",
       "    <tr>\n",
       "      <th>0</th>\n",
       "      <td>Breton Cyrille menuisier 25 Garçon française</td>\n",
       "      <td>0</td>\n",
       "    </tr>\n",
       "    <tr>\n",
       "      <th>1</th>\n",
       "      <td>Ferazzi Auguste vitrier 30 Garçon Piémontaise</td>\n",
       "      <td>1</td>\n",
       "    </tr>\n",
       "    <tr>\n",
       "      <th>2</th>\n",
       "      <td>Machol Pierre vitrier 24 Garçon Piémontaise</td>\n",
       "      <td>1</td>\n",
       "    </tr>\n",
       "    <tr>\n",
       "      <th>3</th>\n",
       "      <td>Desbois Alexandre prop re 48 Homme marié franç...</td>\n",
       "      <td>1</td>\n",
       "    </tr>\n",
       "    <tr>\n",
       "      <th>4</th>\n",
       "      <td>Vignat Zélie prop re sa fe 30 française</td>\n",
       "      <td>0</td>\n",
       "    </tr>\n",
       "    <tr>\n",
       "      <th>...</th>\n",
       "      <td>...</td>\n",
       "      <td>...</td>\n",
       "    </tr>\n",
       "    <tr>\n",
       "      <th>25075</th>\n",
       "      <td>Chameton-Dideron Marie chef 1869 idem Pailharès</td>\n",
       "      <td>1</td>\n",
       "    </tr>\n",
       "    <tr>\n",
       "      <th>25076</th>\n",
       "      <td>Ode Marie ouv chaus res chef Cara 1863 idem St...</td>\n",
       "      <td>1</td>\n",
       "    </tr>\n",
       "    <tr>\n",
       "      <th>25077</th>\n",
       "      <td>Berni Nello manoeuvre chef Baretto 1886 italie...</td>\n",
       "      <td>1</td>\n",
       "    </tr>\n",
       "    <tr>\n",
       "      <th>25078</th>\n",
       "      <td>Berni-Laureti Annunziata épouse 1887 idem idem</td>\n",
       "      <td>0</td>\n",
       "    </tr>\n",
       "    <tr>\n",
       "      <th>25079</th>\n",
       "      <td>Berni Primo fils 1914 idem idem</td>\n",
       "      <td>0</td>\n",
       "    </tr>\n",
       "  </tbody>\n",
       "</table>\n",
       "<p>25080 rows × 2 columns</p>\n",
       "</div>"
      ],
      "text/plain": [
       "                                                    text  label\n",
       "0           Breton Cyrille menuisier 25 Garçon française      0\n",
       "1          Ferazzi Auguste vitrier 30 Garçon Piémontaise      1\n",
       "2            Machol Pierre vitrier 24 Garçon Piémontaise      1\n",
       "3      Desbois Alexandre prop re 48 Homme marié franç...      1\n",
       "4                Vignat Zélie prop re sa fe 30 française      0\n",
       "...                                                  ...    ...\n",
       "25075    Chameton-Dideron Marie chef 1869 idem Pailharès      1\n",
       "25076  Ode Marie ouv chaus res chef Cara 1863 idem St...      1\n",
       "25077  Berni Nello manoeuvre chef Baretto 1886 italie...      1\n",
       "25078     Berni-Laureti Annunziata épouse 1887 idem idem      0\n",
       "25079                    Berni Primo fils 1914 idem idem      0\n",
       "\n",
       "[25080 rows x 2 columns]"
      ]
     },
     "execution_count": 23,
     "metadata": {},
     "output_type": "execute_result"
    }
   ],
   "source": [
    "import pandas as pd\n",
    "from sklearn.metrics import confusion_matrix\n",
    "import evaluate\n",
    "import numpy as np\n",
    "from sklearn.feature_extraction.text import CountVectorizer\n",
    "from sklearn.feature_extraction.text import TfidfTransformer\n",
    "from sklearn.model_selection import train_test_split\n",
    "from sklearn.model_selection import StratifiedKFold\n",
    "from sklearn.linear_model import LogisticRegression\n",
    "from sklearn.metrics import accuracy_score, f1_score, precision_score, recall_score, log_loss, roc_curve\n",
    "\n",
    "clf_metrics = evaluate.combine([\"accuracy\", \"f1\", \"precision\", \"recall\"])\n",
    "def compute_metrics(eval_pred):\n",
    "    predictions, labels = eval_pred\n",
    "    predictions = np.argmax(predictions, axis=1)\n",
    "    return clf_metrics.compute(predictions=predictions, references=labels)\n",
    "\n",
    "\n",
    "df = pd.read_csv('entities.csv', sep=',')\n",
    "df.rename(columns={'chef':'label', 'texte':'text'}, inplace=True)\n",
    "df.label = df.label.astype('int')\n",
    "df"
   ]
  },
  {
   "cell_type": "code",
   "execution_count": 10,
   "metadata": {},
   "outputs": [],
   "source": [
    "df_train, df_test = train_test_split(df, test_size=0.2, random_state=42, stratify=df.label)"
   ]
  },
  {
   "cell_type": "code",
   "execution_count": 11,
   "metadata": {},
   "outputs": [
    {
     "name": "stdout",
     "output_type": "stream",
     "text": [
      "(20064, 13249) (5016, 13249)\n",
      "(20064,) (5016,)\n"
     ]
    }
   ],
   "source": [
    "count_vec = CountVectorizer()\n",
    "X_train = count_vec.fit_transform(df_train.text)\n",
    "tfidf = TfidfTransformer()\n",
    "X_train = tfidf.fit_transform(X_train)\n",
    "\n",
    "X_test = count_vec.transform(df_test.text)\n",
    "X_test = tfidf.transform(X_test)\n",
    "\n",
    "y_train = df_train.label\n",
    "y_test = df_test.label\n",
    "\n",
    "print(X_train.shape, X_test.shape)\n",
    "print(y_train.shape, y_test.shape)"
   ]
  },
  {
   "cell_type": "code",
   "execution_count": 22,
   "metadata": {},
   "outputs": [
    {
     "name": "stdout",
     "output_type": "stream",
     "text": [
      "Accuracy:  0.9224481658692185\n",
      "F1:  0.8334047109207708\n",
      "Precision:  0.8061309030654515\n",
      "Recall:  0.8625886524822695\n"
     ]
    }
   ],
   "source": [
    "\n",
    "\n",
    "clf = LogisticRegression(max_iter=1000)\n",
    "clf.fit(X_train, y_train)\n",
    "y_pred = (clf.predict_proba(X_test)[:, 1] > 0.5)\n",
    "\n",
    "print(\"Accuracy: \", accuracy_score(y_test, y_pred))\n",
    "print(\"F1: \", f1_score(y_test, y_pred))\n",
    "print(\"Precision: \", precision_score(y_test, y_pred))\n",
    "print(\"Recall: \", recall_score(y_test, y_pred))"
   ]
  },
  {
   "cell_type": "code",
   "execution_count": 13,
   "metadata": {},
   "outputs": [
    {
     "name": "stdout",
     "output_type": "stream",
     "text": [
      "[-8.75691522 -8.20396608 -7.00227289 ...  3.20553941  3.71475742\n",
      " 13.82410982]\n",
      "Most negative features:  ['fils', 'femme', 'fille', 'épouse', 'domestique', 'idem', 'sa', 'garçon', 'mère', 'ans']\n",
      "Most positive features:  ['journalière', 'rentier', 'vve', 'propriétaire', 'veuve', 'homme', 'veuf', 'marié', 'ch', 'chef']\n"
     ]
    }
   ],
   "source": [
    "#Most important features\n",
    "\n",
    "feature_names = count_vec.get_feature_names_out()\n",
    "coefs = clf.coef_[0]\n",
    "print(np.sort(coefs))\n",
    "coefs = np.argsort(coefs)\n",
    "\n",
    "print(\"Most negative features: \", [feature_names[i] for i in coefs[:10]])\n",
    "print(\"Most positive features: \", [feature_names[i] for i in coefs[-10:]])"
   ]
  },
  {
   "cell_type": "code",
   "execution_count": 8,
   "metadata": {},
   "outputs": [
    {
     "name": "stdout",
     "output_type": "stream",
     "text": [
      "Fold 1\n",
      "Accuracy:  0.9200558213716108\n",
      "F1:  0.8308730493462674\n",
      "Precision:  0.7924376508447305\n",
      "Recall:  0.87322695035461\n",
      "BCE Loss:  0.21013681113622015\n",
      "Fold 2\n",
      "Accuracy:  0.9254385964912281\n",
      "F1:  0.8378143972246314\n",
      "Precision:  0.8200339558573854\n",
      "Recall:  0.8563829787234043\n",
      "BCE Loss:  0.2041974451619266\n",
      "Fold 3\n",
      "Accuracy:  0.9234449760765551\n",
      "F1:  0.8372881355932204\n",
      "Precision:  0.801948051948052\n",
      "Recall:  0.875886524822695\n",
      "BCE Loss:  0.20168107751471848\n",
      "Fold 4\n",
      "Accuracy:  0.9250398724082934\n",
      "F1:  0.8413502109704641\n",
      "Precision:  0.8027375201288245\n",
      "Recall:  0.8838652482269503\n",
      "BCE Loss:  0.19819007301492453\n",
      "Fold 5\n",
      "Accuracy:  0.92603668261563\n",
      "F1:  0.8411134903640257\n",
      "Precision:  0.8135874067937034\n",
      "Recall:  0.8705673758865248\n",
      "BCE Loss:  0.20741880969734167\n"
     ]
    }
   ],
   "source": [
    "skf = StratifiedKFold(n_splits=5, shuffle=True, random_state=42)\n",
    "\n",
    "res_df = pd.DataFrame(columns=[\"Accuracy\", \"F1\", \"Precision\", \"Recall\", \"BCE Loss\"])\n",
    "for i, (train_index, test_index) in enumerate(skf.split(df.text, df.label)):\n",
    "    count_vec = CountVectorizer()\n",
    "    X_train = count_vec.fit_transform(df.text[train_index])\n",
    "    tfidf = TfidfTransformer()\n",
    "    X_train = tfidf.fit_transform(X_train)\n",
    "    y_train = df.label[train_index]\n",
    "\n",
    "\n",
    "    X_test = count_vec.transform(df.text[test_index])\n",
    "    X_test = tfidf.transform(X_test)\n",
    "    y_test = df.label[test_index]\n",
    "\n",
    "    clf = LogisticRegression(max_iter=1000)\n",
    "    clf.fit(X_train, y_train)\n",
    "    y_pred = clf.predict(X_test)\n",
    "\n",
    "    print(f\"Fold {i+1}\")\n",
    "    print(\"Accuracy: \", accuracy_score(y_test, y_pred))\n",
    "    print(\"F1: \", f1_score(y_test, y_pred))\n",
    "    print(\"Precision: \", precision_score(y_test, y_pred))\n",
    "    print(\"Recall: \", recall_score(y_test, y_pred))\n",
    "    bce_loss = log_loss(y_test, clf.predict_proba(X_test))\n",
    "    print(\"BCE Loss: \", bce_loss)\n",
    "\n",
    "    res_df.loc[i] = [accuracy_score(y_test, y_pred), f1_score(y_test, y_pred), precision_score(y_test, y_pred), recall_score(y_test, y_pred), bce_loss]\n",
    "\n",
    "final_res_df = pd.DataFrame(columns=[\"Accuracy\", \"F1\", \"Precision\", \"Recall\", \"BCE Loss\"])\n",
    "final_res_df.loc[0] = res_df.mean()\n",
    "final_res_df.loc[1] = res_df.std()\n",
    "\n",
    "    \n",
    "\n",
    "\n",
    "\n",
    "\n",
    "\n"
   ]
  },
  {
   "cell_type": "code",
   "execution_count": 9,
   "metadata": {},
   "outputs": [
    {
     "data": {
      "text/html": [
       "<div>\n",
       "<style scoped>\n",
       "    .dataframe tbody tr th:only-of-type {\n",
       "        vertical-align: middle;\n",
       "    }\n",
       "\n",
       "    .dataframe tbody tr th {\n",
       "        vertical-align: top;\n",
       "    }\n",
       "\n",
       "    .dataframe thead th {\n",
       "        text-align: right;\n",
       "    }\n",
       "</style>\n",
       "<table border=\"1\" class=\"dataframe\">\n",
       "  <thead>\n",
       "    <tr style=\"text-align: right;\">\n",
       "      <th></th>\n",
       "      <th>Accuracy</th>\n",
       "      <th>F1</th>\n",
       "      <th>Precision</th>\n",
       "      <th>Recall</th>\n",
       "      <th>BCE Loss</th>\n",
       "    </tr>\n",
       "  </thead>\n",
       "  <tbody>\n",
       "    <tr>\n",
       "      <th>0</th>\n",
       "      <td>0.924003</td>\n",
       "      <td>0.837688</td>\n",
       "      <td>0.806149</td>\n",
       "      <td>0.871986</td>\n",
       "      <td>0.204325</td>\n",
       "    </tr>\n",
       "    <tr>\n",
       "      <th>1</th>\n",
       "      <td>0.002406</td>\n",
       "      <td>0.004236</td>\n",
       "      <td>0.010787</td>\n",
       "      <td>0.010042</td>\n",
       "      <td>0.004690</td>\n",
       "    </tr>\n",
       "  </tbody>\n",
       "</table>\n",
       "</div>"
      ],
      "text/plain": [
       "   Accuracy        F1  Precision    Recall  BCE Loss\n",
       "0  0.924003  0.837688   0.806149  0.871986  0.204325\n",
       "1  0.002406  0.004236   0.010787  0.010042  0.004690"
      ]
     },
     "execution_count": 9,
     "metadata": {},
     "output_type": "execute_result"
    }
   ],
   "source": [
    "final_res_df"
   ]
  }
 ],
 "metadata": {
  "kernelspec": {
   "display_name": "base",
   "language": "python",
   "name": "python3"
  },
  "language_info": {
   "codemirror_mode": {
    "name": "ipython",
    "version": 3
   },
   "file_extension": ".py",
   "mimetype": "text/x-python",
   "name": "python",
   "nbconvert_exporter": "python",
   "pygments_lexer": "ipython3",
   "version": "3.12.2"
  }
 },
 "nbformat": 4,
 "nbformat_minor": 2
}
